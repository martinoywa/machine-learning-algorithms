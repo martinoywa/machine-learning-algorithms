{
 "cells": [
  {
   "cell_type": "markdown",
   "id": "88fd22ce",
   "metadata": {},
   "source": [
    "## What is it?\n",
    "\n",
    "K-Nearest Neighbors or KNN is a Machine Learning algorithm that classifies or assigns a label to a new point or data point \n",
    "base on the classes or labels of it's $k$ nearest neighbors. The goal of this algorithm therefore is, given $k$, find the class or label of a new point $X$."
   ]
  },
  {
   "cell_type": "markdown",
   "id": "e535ca4e",
   "metadata": {},
   "source": [
    "## How it works.\n",
    "\n",
    "1. Calculate the __Eucledian Distance__ between the new point e.g $(x,y)$ and all other data points e.g $(a, b)$. This example assumes that the dataset only has two features. Formula for the __Eucledian Distance__ is $dist(x, y) = \\sqrt{(x-a)^2 + (y-b)^2}$.\n",
    "2. For calculated distances get the $k$ smallest or shorted ones and their respective classes or labels. The highest class count is the class for the new data point."
   ]
  },
  {
   "cell_type": "markdown",
   "id": "1ac6ee37",
   "metadata": {},
   "source": [
    "## Use Cases.\n",
    "\n",
    "1. Classification on small datasets.\n",
    "2. Classification on datasets with minimal noise e.g 2 classes or labels."
   ]
  },
  {
   "cell_type": "markdown",
   "id": "d03a156d",
   "metadata": {},
   "source": [
    "## Selecting k.\n",
    "\n",
    "- $\\sqrt{n} \\pm{1}$, where $n=size(dataset)$\n",
    "- $k$ should not be a multiple of the classes.\n",
    "- $k$ is odd depending on whether classes is even.\n"
   ]
  },
  {
   "cell_type": "markdown",
   "id": "2564c85f",
   "metadata": {},
   "source": [
    "## Implemetation."
   ]
  },
  {
   "cell_type": "code",
   "execution_count": 3,
   "id": "19a81200",
   "metadata": {},
   "outputs": [],
   "source": [
    "import numpy as np\n",
    "import pandas as pd"
   ]
  },
  {
   "cell_type": "code",
   "execution_count": 7,
   "id": "69facffb",
   "metadata": {},
   "outputs": [],
   "source": [
    "# simple dataset\n",
    "dataset = np.array([[1, 2, 0],\n",
    "          [3, 4, 1],\n",
    "          [5, 6, 1],\n",
    "          [7, 8, 0]])\n",
    "\n",
    "# a look at the dataset\n",
    "data = pd.DataFrame(dataset, columns=[\"height\", \"weight\", \"class\"], dtype=float)"
   ]
  },
  {
   "cell_type": "code",
   "execution_count": 8,
   "id": "dd5d6a07",
   "metadata": {},
   "outputs": [
    {
     "data": {
      "text/html": [
       "<div>\n",
       "<style scoped>\n",
       "    .dataframe tbody tr th:only-of-type {\n",
       "        vertical-align: middle;\n",
       "    }\n",
       "\n",
       "    .dataframe tbody tr th {\n",
       "        vertical-align: top;\n",
       "    }\n",
       "\n",
       "    .dataframe thead th {\n",
       "        text-align: right;\n",
       "    }\n",
       "</style>\n",
       "<table border=\"1\" class=\"dataframe\">\n",
       "  <thead>\n",
       "    <tr style=\"text-align: right;\">\n",
       "      <th></th>\n",
       "      <th>height</th>\n",
       "      <th>weight</th>\n",
       "      <th>class</th>\n",
       "    </tr>\n",
       "  </thead>\n",
       "  <tbody>\n",
       "    <tr>\n",
       "      <th>0</th>\n",
       "      <td>1.0</td>\n",
       "      <td>2.0</td>\n",
       "      <td>0.0</td>\n",
       "    </tr>\n",
       "    <tr>\n",
       "      <th>1</th>\n",
       "      <td>3.0</td>\n",
       "      <td>4.0</td>\n",
       "      <td>1.0</td>\n",
       "    </tr>\n",
       "    <tr>\n",
       "      <th>2</th>\n",
       "      <td>5.0</td>\n",
       "      <td>6.0</td>\n",
       "      <td>1.0</td>\n",
       "    </tr>\n",
       "    <tr>\n",
       "      <th>3</th>\n",
       "      <td>7.0</td>\n",
       "      <td>8.0</td>\n",
       "      <td>0.0</td>\n",
       "    </tr>\n",
       "  </tbody>\n",
       "</table>\n",
       "</div>"
      ],
      "text/plain": [
       "   height  weight  class\n",
       "0     1.0     2.0    0.0\n",
       "1     3.0     4.0    1.0\n",
       "2     5.0     6.0    1.0\n",
       "3     7.0     8.0    0.0"
      ]
     },
     "execution_count": 8,
     "metadata": {},
     "output_type": "execute_result"
    }
   ],
   "source": [
    "data.head()"
   ]
  },
  {
   "cell_type": "code",
   "execution_count": 35,
   "id": "58f75458",
   "metadata": {},
   "outputs": [
    {
     "data": {
      "text/plain": [
       "array([4.5, 6.1])"
      ]
     },
     "execution_count": 35,
     "metadata": {},
     "output_type": "execute_result"
    }
   ],
   "source": [
    "# new point\n",
    "point = np.array([4.5, 6.1])\n",
    "point"
   ]
  },
  {
   "cell_type": "code",
   "execution_count": 46,
   "id": "4a304e8b",
   "metadata": {},
   "outputs": [],
   "source": [
    "# 1. Calculate the Eucledian Distance\n",
    "def eucledian_distance(point, dataset):\n",
    "    eucledian = np.zeros(dataset.shape[0])\n",
    "    \n",
    "    for i in range(point.shape[0]):\n",
    "        eucledian += np.power(point[i] - dataset[:, i], 2)\n",
    "    eucledian = np.sqrt(eucledian)\n",
    "    \n",
    "    return eucledian"
   ]
  },
  {
   "cell_type": "code",
   "execution_count": 56,
   "id": "5d893ff5",
   "metadata": {},
   "outputs": [
    {
     "data": {
      "text/html": [
       "<div>\n",
       "<style scoped>\n",
       "    .dataframe tbody tr th:only-of-type {\n",
       "        vertical-align: middle;\n",
       "    }\n",
       "\n",
       "    .dataframe tbody tr th {\n",
       "        vertical-align: top;\n",
       "    }\n",
       "\n",
       "    .dataframe thead th {\n",
       "        text-align: right;\n",
       "    }\n",
       "</style>\n",
       "<table border=\"1\" class=\"dataframe\">\n",
       "  <thead>\n",
       "    <tr style=\"text-align: right;\">\n",
       "      <th></th>\n",
       "      <th>height</th>\n",
       "      <th>weight</th>\n",
       "      <th>class</th>\n",
       "      <th>Eucledian Distance</th>\n",
       "    </tr>\n",
       "  </thead>\n",
       "  <tbody>\n",
       "    <tr>\n",
       "      <th>0</th>\n",
       "      <td>1.0</td>\n",
       "      <td>2.0</td>\n",
       "      <td>0.0</td>\n",
       "      <td>5.390733</td>\n",
       "    </tr>\n",
       "    <tr>\n",
       "      <th>1</th>\n",
       "      <td>3.0</td>\n",
       "      <td>4.0</td>\n",
       "      <td>1.0</td>\n",
       "      <td>2.580698</td>\n",
       "    </tr>\n",
       "    <tr>\n",
       "      <th>2</th>\n",
       "      <td>5.0</td>\n",
       "      <td>6.0</td>\n",
       "      <td>1.0</td>\n",
       "      <td>0.509902</td>\n",
       "    </tr>\n",
       "    <tr>\n",
       "      <th>3</th>\n",
       "      <td>7.0</td>\n",
       "      <td>8.0</td>\n",
       "      <td>0.0</td>\n",
       "      <td>3.140064</td>\n",
       "    </tr>\n",
       "  </tbody>\n",
       "</table>\n",
       "</div>"
      ],
      "text/plain": [
       "   height  weight  class  Eucledian Distance\n",
       "0     1.0     2.0    0.0            5.390733\n",
       "1     3.0     4.0    1.0            2.580698\n",
       "2     5.0     6.0    1.0            0.509902\n",
       "3     7.0     8.0    0.0            3.140064"
      ]
     },
     "execution_count": 56,
     "metadata": {},
     "output_type": "execute_result"
    }
   ],
   "source": [
    "e_dist = eucledian_distance(point, dataset)\n",
    "data[\"Eucledian Distance\"] = e_dist\n",
    "data.head()"
   ]
  },
  {
   "cell_type": "code",
   "execution_count": 55,
   "id": "5c224a7e",
   "metadata": {},
   "outputs": [
    {
     "name": "stdout",
     "output_type": "stream",
     "text": [
      "3\n"
     ]
    }
   ],
   "source": [
    "# 2. Get suitable k\n",
    "k = int(np.sqrt(dataset.shape[0]))\n",
    "if len(set(dataset[:, -1]))%2 == 0: k+=1\n",
    "print(k)"
   ]
  },
  {
   "cell_type": "code",
   "execution_count": 69,
   "id": "c89298f7",
   "metadata": {},
   "outputs": [],
   "source": [
    "# 3. Get the class\n",
    "def classify(k, e_dist, dataset):\n",
    "    # counts for classes\n",
    "    k_class_counts = {i: 0 for i in set(dataset[:, -1])}\n",
    "    # class dist pairs sorted by dist\n",
    "    class_ed_pairs = sorted(zip(dataset[:, -1], e_dist), key=lambda x: x[1])\n",
    "    # get k counts for the classes\n",
    "    for i in range(k):\n",
    "        k_class_counts[class_ed_pairs[i][0]] += 1\n",
    "    \n",
    "    return max(k_class_counts, key=k_class_counts.get)"
   ]
  },
  {
   "cell_type": "code",
   "execution_count": 70,
   "id": "ca1c0464",
   "metadata": {},
   "outputs": [
    {
     "name": "stdout",
     "output_type": "stream",
     "text": [
      "1\n"
     ]
    }
   ],
   "source": [
    "output = classify(k, e_dist, dataset)\n",
    "print(output)"
   ]
  },
  {
   "cell_type": "code",
   "execution_count": null,
   "id": "fc773151",
   "metadata": {},
   "outputs": [],
   "source": []
  }
 ],
 "metadata": {
  "kernelspec": {
   "display_name": "Python 3 (ipykernel)",
   "language": "python",
   "name": "python3"
  },
  "language_info": {
   "codemirror_mode": {
    "name": "ipython",
    "version": 3
   },
   "file_extension": ".py",
   "mimetype": "text/x-python",
   "name": "python",
   "nbconvert_exporter": "python",
   "pygments_lexer": "ipython3",
   "version": "3.9.7"
  }
 },
 "nbformat": 4,
 "nbformat_minor": 5
}
